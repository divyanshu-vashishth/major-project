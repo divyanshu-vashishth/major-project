{
 "cells": [
  {
   "cell_type": "markdown",
   "metadata": {
    "_cell_guid": "b1076dfc-b9ad-4769-8c92-a6c4dae69d19",
    "_uuid": "8f2839f25d086af736a60e9eeb907d3b93b6e0e5"
   },
   "source": [
    "<h2 style=\"text-align:center;\">DETECTING BOT-CONTROLLED ACCOUNTS ON SOCIAL MEDIA USING MACHINE LEARNING TECHNIQUES PART II</h2>"
   ]
  },
  {
   "cell_type": "markdown",
   "metadata": {},
   "source": [
    "### 1. Import Data Manipulation Libraries"
   ]
  },
  {
   "cell_type": "code",
   "execution_count": 1,
   "metadata": {
    "execution": {
     "iopub.execute_input": "2024-03-10T00:19:10.957560Z",
     "iopub.status.busy": "2024-03-10T00:19:10.957183Z",
     "iopub.status.idle": "2024-03-10T00:19:12.165227Z",
     "shell.execute_reply": "2024-03-10T00:19:12.164040Z",
     "shell.execute_reply.started": "2024-03-10T00:19:10.957522Z"
    },
    "trusted": true
   },
   "outputs": [],
   "source": [
    "import os \n",
    "import re\n",
    "import json\n",
    "\n",
    "import numpy as np\n",
    "import pandas as pd\n",
    "\n",
    "import warnings\n",
    "warnings.filterwarnings(action=\"ignore\")"
   ]
  },
  {
   "cell_type": "markdown",
   "metadata": {},
   "source": [
    "### 2. Define Utility Functions for converting JSON to Pandas DataFrame"
   ]
  },
  {
   "cell_type": "code",
   "execution_count": 2,
   "metadata": {
    "execution": {
     "iopub.execute_input": "2024-03-10T00:19:12.170069Z",
     "iopub.status.busy": "2024-03-10T00:19:12.169070Z",
     "iopub.status.idle": "2024-03-10T00:19:12.181168Z",
     "shell.execute_reply": "2024-03-10T00:19:12.179848Z",
     "shell.execute_reply.started": "2024-03-10T00:19:12.170025Z"
    },
    "trusted": true
   },
   "outputs": [],
   "source": [
    "def create_dataframe(account_data_list):\n",
    "    dataframe = pd.DataFrame({})\n",
    "    \n",
    "    for account_data in account_data_list:\n",
    "        user_follower_count = account_data[\"userFollowerCount\"]\n",
    "        user_following_count = account_data[\"userFollowingCount\"]\n",
    "        follower_following_ratio = user_follower_count/max(1,user_following_count)\n",
    "\n",
    "        temp_dataframe = pd.DataFrame([\n",
    "            {\"user_media_count\":account_data[\"userMediaCount\"],\n",
    "            \"user_follower_count\":account_data[\"userFollowerCount\"],\n",
    "            \"user_following_count\":account_data[\"userFollowingCount\"],\n",
    "            \"user_has_highligh_reels\":account_data[\"userHasHighlighReels\"],\n",
    "            \"user_has_external_url\":account_data[\"userHasExternalUrl\"],\n",
    "            \"user_tags_count\":account_data[\"userTagsCount\"],\n",
    "            \"follower_following_ratio\":follower_following_ratio,\n",
    "            \"user_biography_length\":account_data[\"userBiographyLength\"],\n",
    "            \"username_length\":account_data[\"usernameLength\"],\n",
    "            \"username_digit_count\":account_data[\"usernameDigitCount\"],\n",
    "            \"media_comment_numbers\":account_data[\"mediaCommentNumbers\"],\n",
    "            \"media_comments_are_disabled\":account_data[\"mediaCommentNumbers\"],\n",
    "            \"media_has_location_info\":account_data[\"mediaHasLocationInfo\"],\n",
    "            \"media_hashtag_numbers\":account_data[\"mediaHashtagNumbers\"],\n",
    "            \"media_like_numbers\":account_data[\"mediaLikeNumbers\"],\n",
    "            \"mediaUpload_times\":account_data[\"mediaUploadTimes\"],\n",
    "            \"automated_behaviour\":account_data[\"automatedBehaviour\"]\n",
    "        }])\n",
    "\n",
    "        dataframe = pd.concat([dataframe, temp_dataframe], ignore_index=True)\n",
    "\n",
    "    return dataframe"
   ]
  },
  {
   "cell_type": "code",
   "execution_count": 3,
   "metadata": {
    "execution": {
     "iopub.execute_input": "2024-03-10T00:19:12.183265Z",
     "iopub.status.busy": "2024-03-10T00:19:12.182912Z",
     "iopub.status.idle": "2024-03-10T00:19:12.195364Z",
     "shell.execute_reply": "2024-03-10T00:19:12.193991Z",
     "shell.execute_reply.started": "2024-03-10T00:19:12.183236Z"
    },
    "trusted": true
   },
   "outputs": [],
   "source": [
    "def import_data(dataset_path):\n",
    "\n",
    "    with open(dataset_path + \"/\" + dataset_version + \"/automatedAccountData.json\") as json_file:\n",
    "        automated_account_data = json.load(json_file)\n",
    "    with open(dataset_path + \"/\" + dataset_version + \"/nonautomatedAccountData.json\") as json_file:\n",
    "        nonautomated_account_data = json.load(json_file)\n",
    "\n",
    "    automated_account_dataframe = create_dataframe(automated_account_data)\n",
    "    nonautomated_account_dataframe = create_dataframe(nonautomated_account_data)\n",
    "\n",
    "    merged_dataframe = pd.concat([automated_account_dataframe, nonautomated_account_dataframe], ignore_index=True)\n",
    "\n",
    "    return merged_dataframe"
   ]
  },
  {
   "cell_type": "markdown",
   "metadata": {},
   "source": [
    "### 3. Load Datasets "
   ]
  },
  {
   "cell_type": "code",
   "execution_count": 4,
   "metadata": {
    "execution": {
     "iopub.execute_input": "2024-03-10T00:19:12.198620Z",
     "iopub.status.busy": "2024-03-10T00:19:12.198290Z",
     "iopub.status.idle": "2024-03-10T00:19:12.210088Z",
     "shell.execute_reply": "2024-03-10T00:19:12.209110Z",
     "shell.execute_reply.started": "2024-03-10T00:19:12.198592Z"
    },
    "trusted": true
   },
   "outputs": [],
   "source": [
    "dataset_path = \"/kaggle/input/social-bot-dataset/dataset/instafake-dataset\"\n",
    "dataset_version = \"automated-v1.0\""
   ]
  },
  {
   "cell_type": "code",
   "execution_count": 5,
   "metadata": {
    "execution": {
     "iopub.execute_input": "2024-03-10T00:19:12.211585Z",
     "iopub.status.busy": "2024-03-10T00:19:12.211290Z",
     "iopub.status.idle": "2024-03-10T00:19:14.828871Z",
     "shell.execute_reply": "2024-03-10T00:19:14.827638Z",
     "shell.execute_reply.started": "2024-03-10T00:19:12.211559Z"
    },
    "trusted": true
   },
   "outputs": [],
   "source": [
    "instagram_df = import_data(dataset_path)"
   ]
  },
  {
   "cell_type": "markdown",
   "metadata": {},
   "source": [
    "### 4. Dataset Preview "
   ]
  },
  {
   "cell_type": "code",
   "execution_count": 6,
   "metadata": {
    "execution": {
     "iopub.execute_input": "2024-03-10T00:19:14.833759Z",
     "iopub.status.busy": "2024-03-10T00:19:14.830166Z",
     "iopub.status.idle": "2024-03-10T00:19:14.909787Z",
     "shell.execute_reply": "2024-03-10T00:19:14.908524Z",
     "shell.execute_reply.started": "2024-03-10T00:19:14.833721Z"
    },
    "trusted": true
   },
   "outputs": [
    {
     "data": {
      "text/html": [
       "<div>\n",
       "<style scoped>\n",
       "    .dataframe tbody tr th:only-of-type {\n",
       "        vertical-align: middle;\n",
       "    }\n",
       "\n",
       "    .dataframe tbody tr th {\n",
       "        vertical-align: top;\n",
       "    }\n",
       "\n",
       "    .dataframe thead th {\n",
       "        text-align: right;\n",
       "    }\n",
       "</style>\n",
       "<table border=\"1\" class=\"dataframe\">\n",
       "  <thead>\n",
       "    <tr style=\"text-align: right;\">\n",
       "      <th></th>\n",
       "      <th>user_media_count</th>\n",
       "      <th>user_follower_count</th>\n",
       "      <th>user_following_count</th>\n",
       "      <th>user_has_highligh_reels</th>\n",
       "      <th>user_has_external_url</th>\n",
       "      <th>user_tags_count</th>\n",
       "      <th>follower_following_ratio</th>\n",
       "      <th>user_biography_length</th>\n",
       "      <th>username_length</th>\n",
       "      <th>username_digit_count</th>\n",
       "      <th>media_comment_numbers</th>\n",
       "      <th>media_comments_are_disabled</th>\n",
       "      <th>media_has_location_info</th>\n",
       "      <th>media_hashtag_numbers</th>\n",
       "      <th>media_like_numbers</th>\n",
       "      <th>mediaUpload_times</th>\n",
       "      <th>automated_behaviour</th>\n",
       "    </tr>\n",
       "  </thead>\n",
       "  <tbody>\n",
       "    <tr>\n",
       "      <th>0</th>\n",
       "      <td>97</td>\n",
       "      <td>1612</td>\n",
       "      <td>7108</td>\n",
       "      <td>0</td>\n",
       "      <td>1</td>\n",
       "      <td>36</td>\n",
       "      <td>0.226787</td>\n",
       "      <td>133</td>\n",
       "      <td>12</td>\n",
       "      <td>0</td>\n",
       "      <td>[5, 2, 10, 0, 3, 2, 2, 2, 4, 0, 0, 6, 6, 0, 2,...</td>\n",
       "      <td>[5, 2, 10, 0, 3, 2, 2, 2, 4, 0, 0, 6, 6, 0, 2,...</td>\n",
       "      <td>[1, 1, 1, 1, 1, 1, 1, 1, 1, 1, 1, 1, 1, 1, 1, ...</td>\n",
       "      <td>[10, 10, 12, 10, 13, 13, 10, 12, 10, 11, 11, 1...</td>\n",
       "      <td>[100, 78, 112, 78, 77, 111, 97, 95, 63, 83, 42...</td>\n",
       "      <td>[1540847457, 1540744841, 1538410400, 153729214...</td>\n",
       "      <td>1</td>\n",
       "    </tr>\n",
       "    <tr>\n",
       "      <th>1</th>\n",
       "      <td>863</td>\n",
       "      <td>3028</td>\n",
       "      <td>912</td>\n",
       "      <td>1</td>\n",
       "      <td>0</td>\n",
       "      <td>77</td>\n",
       "      <td>3.320175</td>\n",
       "      <td>99</td>\n",
       "      <td>11</td>\n",
       "      <td>0</td>\n",
       "      <td>[3, 2, 3, 4, 7, 2, 0, 6, 2, 2, 1, 9, 2, 0, 2, ...</td>\n",
       "      <td>[3, 2, 3, 4, 7, 2, 0, 6, 2, 2, 1, 9, 2, 0, 2, ...</td>\n",
       "      <td>[1, 1, 1, 1, 1, 1, 1, 1, 1, 1, 1, 1, 1, 1, 1, ...</td>\n",
       "      <td>[8, 11, 14, 17, 12, 10, 13, 14, 14, 11, 10, 11...</td>\n",
       "      <td>[229, 331, 180, 326, 313, 157, 245, 161, 182, ...</td>\n",
       "      <td>[1542664246, 1542569444, 1542564418, 154211928...</td>\n",
       "      <td>1</td>\n",
       "    </tr>\n",
       "    <tr>\n",
       "      <th>2</th>\n",
       "      <td>149</td>\n",
       "      <td>5213</td>\n",
       "      <td>1157</td>\n",
       "      <td>1</td>\n",
       "      <td>1</td>\n",
       "      <td>56</td>\n",
       "      <td>4.505618</td>\n",
       "      <td>120</td>\n",
       "      <td>18</td>\n",
       "      <td>0</td>\n",
       "      <td>[12, 16, 37, 11, 3, 4, 2, 4, 5, 1, 1, 2, 3, 3,...</td>\n",
       "      <td>[12, 16, 37, 11, 3, 4, 2, 4, 5, 1, 1, 2, 3, 3,...</td>\n",
       "      <td>[1, 1, 1, 1, 1, 1, 1, 1, 1, 1, 1, 0, 1, 1, 1, ...</td>\n",
       "      <td>[25, 25, 25, 25, 15, 15, 15, 5, 15, 10, 10, 10...</td>\n",
       "      <td>[237, 254, 350, 257, 180, 172, 141, 84, 218, 8...</td>\n",
       "      <td>[1543220394, 1542972220, 1542868998, 154278889...</td>\n",
       "      <td>1</td>\n",
       "    </tr>\n",
       "    <tr>\n",
       "      <th>3</th>\n",
       "      <td>33</td>\n",
       "      <td>12423</td>\n",
       "      <td>1763</td>\n",
       "      <td>0</td>\n",
       "      <td>0</td>\n",
       "      <td>2</td>\n",
       "      <td>7.046512</td>\n",
       "      <td>55</td>\n",
       "      <td>13</td>\n",
       "      <td>0</td>\n",
       "      <td>[2, 2, 7, 14, 17, 3, 2, 5, 2, 1, 5, 5, 8, 1, 4...</td>\n",
       "      <td>[2, 2, 7, 14, 17, 3, 2, 5, 2, 1, 5, 5, 8, 1, 4...</td>\n",
       "      <td>[0, 0, 0, 0, 0, 0, 0, 0, 0, 0, 0, 0, 0, 0, 0, ...</td>\n",
       "      <td>[0, 1, 0, 0, 0, 0, 2, 0, 0, 0, 0, 14, 14, 0, 0...</td>\n",
       "      <td>[163, 30, 92, 111, 145, 110, 81, 81, 61, 60, 6...</td>\n",
       "      <td>[1543886933, 1543793413, 1543704343, 154344770...</td>\n",
       "      <td>1</td>\n",
       "    </tr>\n",
       "    <tr>\n",
       "      <th>4</th>\n",
       "      <td>1000</td>\n",
       "      <td>9496</td>\n",
       "      <td>2412</td>\n",
       "      <td>1</td>\n",
       "      <td>0</td>\n",
       "      <td>91</td>\n",
       "      <td>3.936982</td>\n",
       "      <td>33</td>\n",
       "      <td>8</td>\n",
       "      <td>0</td>\n",
       "      <td>[4, 0, 13, 9, 9, 6, 16, 4, 25, 6, 3, 4, 16, 10...</td>\n",
       "      <td>[4, 0, 13, 9, 9, 6, 16, 4, 25, 6, 3, 4, 16, 10...</td>\n",
       "      <td>[0, 0, 0, 0, 0, 0, 0, 0, 0, 0, 0, 0, 0, 0, 1, ...</td>\n",
       "      <td>[4, 1, 2, 3, 3, 0, 0, 1, 0, 2, 1, 2, 3, 1, 1, ...</td>\n",
       "      <td>[61, 222, 437, 829, 681, 440, 920, 256, 1017, ...</td>\n",
       "      <td>[1543939920, 1543699089, 1543187756, 154264414...</td>\n",
       "      <td>1</td>\n",
       "    </tr>\n",
       "  </tbody>\n",
       "</table>\n",
       "</div>"
      ],
      "text/plain": [
       "   user_media_count  user_follower_count  user_following_count  \\\n",
       "0                97                 1612                  7108   \n",
       "1               863                 3028                   912   \n",
       "2               149                 5213                  1157   \n",
       "3                33                12423                  1763   \n",
       "4              1000                 9496                  2412   \n",
       "\n",
       "   user_has_highligh_reels  user_has_external_url  user_tags_count  \\\n",
       "0                        0                      1               36   \n",
       "1                        1                      0               77   \n",
       "2                        1                      1               56   \n",
       "3                        0                      0                2   \n",
       "4                        1                      0               91   \n",
       "\n",
       "   follower_following_ratio  user_biography_length  username_length  \\\n",
       "0                  0.226787                    133               12   \n",
       "1                  3.320175                     99               11   \n",
       "2                  4.505618                    120               18   \n",
       "3                  7.046512                     55               13   \n",
       "4                  3.936982                     33                8   \n",
       "\n",
       "   username_digit_count                              media_comment_numbers  \\\n",
       "0                     0  [5, 2, 10, 0, 3, 2, 2, 2, 4, 0, 0, 6, 6, 0, 2,...   \n",
       "1                     0  [3, 2, 3, 4, 7, 2, 0, 6, 2, 2, 1, 9, 2, 0, 2, ...   \n",
       "2                     0  [12, 16, 37, 11, 3, 4, 2, 4, 5, 1, 1, 2, 3, 3,...   \n",
       "3                     0  [2, 2, 7, 14, 17, 3, 2, 5, 2, 1, 5, 5, 8, 1, 4...   \n",
       "4                     0  [4, 0, 13, 9, 9, 6, 16, 4, 25, 6, 3, 4, 16, 10...   \n",
       "\n",
       "                         media_comments_are_disabled  \\\n",
       "0  [5, 2, 10, 0, 3, 2, 2, 2, 4, 0, 0, 6, 6, 0, 2,...   \n",
       "1  [3, 2, 3, 4, 7, 2, 0, 6, 2, 2, 1, 9, 2, 0, 2, ...   \n",
       "2  [12, 16, 37, 11, 3, 4, 2, 4, 5, 1, 1, 2, 3, 3,...   \n",
       "3  [2, 2, 7, 14, 17, 3, 2, 5, 2, 1, 5, 5, 8, 1, 4...   \n",
       "4  [4, 0, 13, 9, 9, 6, 16, 4, 25, 6, 3, 4, 16, 10...   \n",
       "\n",
       "                             media_has_location_info  \\\n",
       "0  [1, 1, 1, 1, 1, 1, 1, 1, 1, 1, 1, 1, 1, 1, 1, ...   \n",
       "1  [1, 1, 1, 1, 1, 1, 1, 1, 1, 1, 1, 1, 1, 1, 1, ...   \n",
       "2  [1, 1, 1, 1, 1, 1, 1, 1, 1, 1, 1, 0, 1, 1, 1, ...   \n",
       "3  [0, 0, 0, 0, 0, 0, 0, 0, 0, 0, 0, 0, 0, 0, 0, ...   \n",
       "4  [0, 0, 0, 0, 0, 0, 0, 0, 0, 0, 0, 0, 0, 0, 1, ...   \n",
       "\n",
       "                               media_hashtag_numbers  \\\n",
       "0  [10, 10, 12, 10, 13, 13, 10, 12, 10, 11, 11, 1...   \n",
       "1  [8, 11, 14, 17, 12, 10, 13, 14, 14, 11, 10, 11...   \n",
       "2  [25, 25, 25, 25, 15, 15, 15, 5, 15, 10, 10, 10...   \n",
       "3  [0, 1, 0, 0, 0, 0, 2, 0, 0, 0, 0, 14, 14, 0, 0...   \n",
       "4  [4, 1, 2, 3, 3, 0, 0, 1, 0, 2, 1, 2, 3, 1, 1, ...   \n",
       "\n",
       "                                  media_like_numbers  \\\n",
       "0  [100, 78, 112, 78, 77, 111, 97, 95, 63, 83, 42...   \n",
       "1  [229, 331, 180, 326, 313, 157, 245, 161, 182, ...   \n",
       "2  [237, 254, 350, 257, 180, 172, 141, 84, 218, 8...   \n",
       "3  [163, 30, 92, 111, 145, 110, 81, 81, 61, 60, 6...   \n",
       "4  [61, 222, 437, 829, 681, 440, 920, 256, 1017, ...   \n",
       "\n",
       "                                   mediaUpload_times  automated_behaviour  \n",
       "0  [1540847457, 1540744841, 1538410400, 153729214...                    1  \n",
       "1  [1542664246, 1542569444, 1542564418, 154211928...                    1  \n",
       "2  [1543220394, 1542972220, 1542868998, 154278889...                    1  \n",
       "3  [1543886933, 1543793413, 1543704343, 154344770...                    1  \n",
       "4  [1543939920, 1543699089, 1543187756, 154264414...                    1  "
      ]
     },
     "execution_count": 6,
     "metadata": {},
     "output_type": "execute_result"
    }
   ],
   "source": [
    "instagram_df.head()"
   ]
  },
  {
   "cell_type": "code",
   "execution_count": 7,
   "metadata": {
    "execution": {
     "iopub.execute_input": "2024-03-10T00:19:14.912089Z",
     "iopub.status.busy": "2024-03-10T00:19:14.911683Z",
     "iopub.status.idle": "2024-03-10T00:19:14.943597Z",
     "shell.execute_reply": "2024-03-10T00:19:14.942382Z",
     "shell.execute_reply.started": "2024-03-10T00:19:14.912053Z"
    },
    "trusted": true
   },
   "outputs": [
    {
     "name": "stdout",
     "output_type": "stream",
     "text": [
      "<class 'pandas.core.frame.DataFrame'>\n",
      "RangeIndex: 1400 entries, 0 to 1399\n",
      "Data columns (total 17 columns):\n",
      " #   Column                       Non-Null Count  Dtype  \n",
      "---  ------                       --------------  -----  \n",
      " 0   user_media_count             1400 non-null   int64  \n",
      " 1   user_follower_count          1400 non-null   int64  \n",
      " 2   user_following_count         1400 non-null   int64  \n",
      " 3   user_has_highligh_reels      1400 non-null   int64  \n",
      " 4   user_has_external_url        1400 non-null   int64  \n",
      " 5   user_tags_count              1400 non-null   int64  \n",
      " 6   follower_following_ratio     1400 non-null   float64\n",
      " 7   user_biography_length        1400 non-null   int64  \n",
      " 8   username_length              1400 non-null   int64  \n",
      " 9   username_digit_count         1400 non-null   int64  \n",
      " 10  media_comment_numbers        1400 non-null   object \n",
      " 11  media_comments_are_disabled  1400 non-null   object \n",
      " 12  media_has_location_info      1400 non-null   object \n",
      " 13  media_hashtag_numbers        1400 non-null   object \n",
      " 14  media_like_numbers           1400 non-null   object \n",
      " 15  mediaUpload_times            1400 non-null   object \n",
      " 16  automated_behaviour          1400 non-null   int64  \n",
      "dtypes: float64(1), int64(10), object(6)\n",
      "memory usage: 186.1+ KB\n"
     ]
    }
   ],
   "source": [
    "instagram_df.info()"
   ]
  },
  {
   "cell_type": "code",
   "execution_count": 8,
   "metadata": {
    "execution": {
     "iopub.execute_input": "2024-03-10T00:19:14.946301Z",
     "iopub.status.busy": "2024-03-10T00:19:14.945503Z",
     "iopub.status.idle": "2024-03-10T00:19:15.003810Z",
     "shell.execute_reply": "2024-03-10T00:19:15.002929Z",
     "shell.execute_reply.started": "2024-03-10T00:19:14.946259Z"
    },
    "trusted": true
   },
   "outputs": [
    {
     "data": {
      "text/html": [
       "<div>\n",
       "<style scoped>\n",
       "    .dataframe tbody tr th:only-of-type {\n",
       "        vertical-align: middle;\n",
       "    }\n",
       "\n",
       "    .dataframe tbody tr th {\n",
       "        vertical-align: top;\n",
       "    }\n",
       "\n",
       "    .dataframe thead th {\n",
       "        text-align: right;\n",
       "    }\n",
       "</style>\n",
       "<table border=\"1\" class=\"dataframe\">\n",
       "  <thead>\n",
       "    <tr style=\"text-align: right;\">\n",
       "      <th></th>\n",
       "      <th>count</th>\n",
       "      <th>mean</th>\n",
       "      <th>std</th>\n",
       "      <th>min</th>\n",
       "      <th>25%</th>\n",
       "      <th>50%</th>\n",
       "      <th>75%</th>\n",
       "      <th>max</th>\n",
       "    </tr>\n",
       "  </thead>\n",
       "  <tbody>\n",
       "    <tr>\n",
       "      <th>user_media_count</th>\n",
       "      <td>1400.0</td>\n",
       "      <td>172.925714</td>\n",
       "      <td>251.258929</td>\n",
       "      <td>0.000000</td>\n",
       "      <td>21.000000</td>\n",
       "      <td>63.000000</td>\n",
       "      <td>197.500000</td>\n",
       "      <td>1000.0</td>\n",
       "    </tr>\n",
       "    <tr>\n",
       "      <th>user_follower_count</th>\n",
       "      <td>1400.0</td>\n",
       "      <td>8498.517857</td>\n",
       "      <td>167468.383100</td>\n",
       "      <td>2.000000</td>\n",
       "      <td>328.500000</td>\n",
       "      <td>666.500000</td>\n",
       "      <td>3272.750000</td>\n",
       "      <td>6255036.0</td>\n",
       "    </tr>\n",
       "    <tr>\n",
       "      <th>user_following_count</th>\n",
       "      <td>1400.0</td>\n",
       "      <td>1518.572857</td>\n",
       "      <td>1804.625336</td>\n",
       "      <td>0.000000</td>\n",
       "      <td>368.750000</td>\n",
       "      <td>683.000000</td>\n",
       "      <td>1906.000000</td>\n",
       "      <td>7502.0</td>\n",
       "    </tr>\n",
       "    <tr>\n",
       "      <th>user_has_highligh_reels</th>\n",
       "      <td>1400.0</td>\n",
       "      <td>0.480000</td>\n",
       "      <td>0.499778</td>\n",
       "      <td>0.000000</td>\n",
       "      <td>0.000000</td>\n",
       "      <td>0.000000</td>\n",
       "      <td>1.000000</td>\n",
       "      <td>1.0</td>\n",
       "    </tr>\n",
       "    <tr>\n",
       "      <th>user_has_external_url</th>\n",
       "      <td>1400.0</td>\n",
       "      <td>0.306429</td>\n",
       "      <td>0.461175</td>\n",
       "      <td>0.000000</td>\n",
       "      <td>0.000000</td>\n",
       "      <td>0.000000</td>\n",
       "      <td>1.000000</td>\n",
       "      <td>1.0</td>\n",
       "    </tr>\n",
       "    <tr>\n",
       "      <th>user_tags_count</th>\n",
       "      <td>1400.0</td>\n",
       "      <td>555.050714</td>\n",
       "      <td>17780.656031</td>\n",
       "      <td>0.000000</td>\n",
       "      <td>4.000000</td>\n",
       "      <td>19.000000</td>\n",
       "      <td>57.000000</td>\n",
       "      <td>665233.0</td>\n",
       "    </tr>\n",
       "    <tr>\n",
       "      <th>follower_following_ratio</th>\n",
       "      <td>1400.0</td>\n",
       "      <td>32.400666</td>\n",
       "      <td>658.421369</td>\n",
       "      <td>0.048157</td>\n",
       "      <td>0.780443</td>\n",
       "      <td>1.005077</td>\n",
       "      <td>1.866799</td>\n",
       "      <td>20244.0</td>\n",
       "    </tr>\n",
       "    <tr>\n",
       "      <th>user_biography_length</th>\n",
       "      <td>1400.0</td>\n",
       "      <td>59.265000</td>\n",
       "      <td>53.916826</td>\n",
       "      <td>0.000000</td>\n",
       "      <td>6.000000</td>\n",
       "      <td>43.500000</td>\n",
       "      <td>113.000000</td>\n",
       "      <td>150.0</td>\n",
       "    </tr>\n",
       "    <tr>\n",
       "      <th>username_length</th>\n",
       "      <td>1400.0</td>\n",
       "      <td>11.980714</td>\n",
       "      <td>3.822405</td>\n",
       "      <td>5.000000</td>\n",
       "      <td>9.000000</td>\n",
       "      <td>11.000000</td>\n",
       "      <td>14.000000</td>\n",
       "      <td>30.0</td>\n",
       "    </tr>\n",
       "    <tr>\n",
       "      <th>username_digit_count</th>\n",
       "      <td>1400.0</td>\n",
       "      <td>0.267857</td>\n",
       "      <td>0.810295</td>\n",
       "      <td>0.000000</td>\n",
       "      <td>0.000000</td>\n",
       "      <td>0.000000</td>\n",
       "      <td>0.000000</td>\n",
       "      <td>6.0</td>\n",
       "    </tr>\n",
       "    <tr>\n",
       "      <th>automated_behaviour</th>\n",
       "      <td>1400.0</td>\n",
       "      <td>0.500000</td>\n",
       "      <td>0.500179</td>\n",
       "      <td>0.000000</td>\n",
       "      <td>0.000000</td>\n",
       "      <td>0.500000</td>\n",
       "      <td>1.000000</td>\n",
       "      <td>1.0</td>\n",
       "    </tr>\n",
       "  </tbody>\n",
       "</table>\n",
       "</div>"
      ],
      "text/plain": [
       "                           count         mean            std       min  \\\n",
       "user_media_count          1400.0   172.925714     251.258929  0.000000   \n",
       "user_follower_count       1400.0  8498.517857  167468.383100  2.000000   \n",
       "user_following_count      1400.0  1518.572857    1804.625336  0.000000   \n",
       "user_has_highligh_reels   1400.0     0.480000       0.499778  0.000000   \n",
       "user_has_external_url     1400.0     0.306429       0.461175  0.000000   \n",
       "user_tags_count           1400.0   555.050714   17780.656031  0.000000   \n",
       "follower_following_ratio  1400.0    32.400666     658.421369  0.048157   \n",
       "user_biography_length     1400.0    59.265000      53.916826  0.000000   \n",
       "username_length           1400.0    11.980714       3.822405  5.000000   \n",
       "username_digit_count      1400.0     0.267857       0.810295  0.000000   \n",
       "automated_behaviour       1400.0     0.500000       0.500179  0.000000   \n",
       "\n",
       "                                 25%         50%          75%        max  \n",
       "user_media_count           21.000000   63.000000   197.500000     1000.0  \n",
       "user_follower_count       328.500000  666.500000  3272.750000  6255036.0  \n",
       "user_following_count      368.750000  683.000000  1906.000000     7502.0  \n",
       "user_has_highligh_reels     0.000000    0.000000     1.000000        1.0  \n",
       "user_has_external_url       0.000000    0.000000     1.000000        1.0  \n",
       "user_tags_count             4.000000   19.000000    57.000000   665233.0  \n",
       "follower_following_ratio    0.780443    1.005077     1.866799    20244.0  \n",
       "user_biography_length       6.000000   43.500000   113.000000      150.0  \n",
       "username_length             9.000000   11.000000    14.000000       30.0  \n",
       "username_digit_count        0.000000    0.000000     0.000000        6.0  \n",
       "automated_behaviour         0.000000    0.500000     1.000000        1.0  "
      ]
     },
     "execution_count": 8,
     "metadata": {},
     "output_type": "execute_result"
    }
   ],
   "source": [
    "instagram_df.describe().T"
   ]
  },
  {
   "cell_type": "markdown",
   "metadata": {},
   "source": [
    "### 5. Feature Engineering"
   ]
  },
  {
   "cell_type": "markdown",
   "metadata": {},
   "source": [
    "#### 5.1. Define Utility function"
   ]
  },
  {
   "cell_type": "code",
   "execution_count": 9,
   "metadata": {
    "execution": {
     "iopub.execute_input": "2024-03-10T00:19:15.005518Z",
     "iopub.status.busy": "2024-03-10T00:19:15.004884Z",
     "iopub.status.idle": "2024-03-10T00:19:15.013050Z",
     "shell.execute_reply": "2024-03-10T00:19:15.011942Z",
     "shell.execute_reply.started": "2024-03-10T00:19:15.005487Z"
    },
    "trusted": true
   },
   "outputs": [],
   "source": [
    "def get_intertime(df):\n",
    "    \"\"\"\n",
    "    Calculate the average time difference between consecutive tweets.\n",
    "\n",
    "    Parameters:\n",
    "    - df (pandas.DataFrame): A DataFrame containing tweet information.\n",
    "    \n",
    "    Returns:\n",
    "    - float: The average time difference between consecutive tweets in seconds.\n",
    "    \"\"\"\n",
    "\n",
    "    tweet_timestamps = df[\"mediaUpload_times\"]\n",
    "\n",
    "    tweet_timestamps.sort()\n",
    "    tts_diff = np.diff(np.array(tweet_timestamps))\n",
    "    \n",
    "    return sum(tts_diff) / (len(tts_diff) if len(tts_diff) != 0 else 1)"
   ]
  },
  {
   "cell_type": "markdown",
   "metadata": {},
   "source": [
    "#### 5.2. Engineer Columns"
   ]
  },
  {
   "cell_type": "code",
   "execution_count": 10,
   "metadata": {
    "execution": {
     "iopub.execute_input": "2024-03-10T00:19:15.018035Z",
     "iopub.status.busy": "2024-03-10T00:19:15.017651Z",
     "iopub.status.idle": "2024-03-10T00:19:15.029191Z",
     "shell.execute_reply": "2024-03-10T00:19:15.027779Z",
     "shell.execute_reply.started": "2024-03-10T00:19:15.017999Z"
    },
    "trusted": true
   },
   "outputs": [],
   "source": [
    "columns = [\n",
    "    \"avg_comment_numbers\", \"avg_hashtag_numbers\", \"avg_like_numbers\",\n",
    "    \"avg_location_info\", \"avg_comments_disabled\", \"intertime\"\n",
    "]"
   ]
  },
  {
   "cell_type": "code",
   "execution_count": 11,
   "metadata": {
    "execution": {
     "iopub.execute_input": "2024-03-10T00:19:15.031564Z",
     "iopub.status.busy": "2024-03-10T00:19:15.031218Z",
     "iopub.status.idle": "2024-03-10T00:19:16.546454Z",
     "shell.execute_reply": "2024-03-10T00:19:16.545182Z",
     "shell.execute_reply.started": "2024-03-10T00:19:15.031535Z"
    },
    "trusted": true
   },
   "outputs": [],
   "source": [
    "engineered_df = pd.DataFrame(columns=columns)\n",
    "\n",
    "# Iterate through rows\n",
    "for index, row in instagram_df.iterrows():\n",
    "    # Calculate averages\n",
    "    \n",
    "    avg_comment_numbers = sum(row['media_comment_numbers']) / len(row['media_comment_numbers']) if len(row['media_comment_numbers']) > 0 else 0\n",
    "    avg_hashtag_numbers = sum(row['media_hashtag_numbers']) / len(row['media_hashtag_numbers']) if len(row['media_hashtag_numbers']) > 0 else 0\n",
    "    avg_like_numbers = sum(row['media_like_numbers']) / len(row['media_like_numbers']) if len(row['media_like_numbers']) > 0 else 0\n",
    "    avg_location_info = sum(row['media_has_location_info']) / len(row['media_has_location_info']) if len(row['media_has_location_info']) > 0 else 0\n",
    "    avg_comments_disabled = sum(row['media_comments_are_disabled']) / len(row['media_comments_are_disabled']) if len(row['media_comments_are_disabled']) > 0 else 0\n",
    "\n",
    "    \n",
    "    intertime = get_intertime(row)\n",
    "    \n",
    "    # Create a list with user features\n",
    "    temp_df = [avg_comment_numbers, avg_comments_disabled, avg_location_info,\n",
    "                    avg_hashtag_numbers, avg_like_numbers, intertime]\n",
    "    \n",
    "     # Append features to DataFrame\n",
    "    engineered_df = pd.concat([engineered_df, pd.DataFrame([temp_df], columns=columns)])\n"
   ]
  },
  {
   "cell_type": "code",
   "execution_count": 12,
   "metadata": {
    "execution": {
     "iopub.execute_input": "2024-03-10T00:19:16.548705Z",
     "iopub.status.busy": "2024-03-10T00:19:16.548383Z",
     "iopub.status.idle": "2024-03-10T00:19:16.568516Z",
     "shell.execute_reply": "2024-03-10T00:19:16.567222Z",
     "shell.execute_reply.started": "2024-03-10T00:19:16.548678Z"
    },
    "trusted": true
   },
   "outputs": [
    {
     "data": {
      "text/html": [
       "<div>\n",
       "<style scoped>\n",
       "    .dataframe tbody tr th:only-of-type {\n",
       "        vertical-align: middle;\n",
       "    }\n",
       "\n",
       "    .dataframe tbody tr th {\n",
       "        vertical-align: top;\n",
       "    }\n",
       "\n",
       "    .dataframe thead th {\n",
       "        text-align: right;\n",
       "    }\n",
       "</style>\n",
       "<table border=\"1\" class=\"dataframe\">\n",
       "  <thead>\n",
       "    <tr style=\"text-align: right;\">\n",
       "      <th></th>\n",
       "      <th>avg_comment_numbers</th>\n",
       "      <th>avg_hashtag_numbers</th>\n",
       "      <th>avg_like_numbers</th>\n",
       "      <th>avg_location_info</th>\n",
       "      <th>avg_comments_disabled</th>\n",
       "      <th>intertime</th>\n",
       "    </tr>\n",
       "  </thead>\n",
       "  <tbody>\n",
       "    <tr>\n",
       "      <th>0</th>\n",
       "      <td>2.453608</td>\n",
       "      <td>2.453608</td>\n",
       "      <td>0.979381</td>\n",
       "      <td>13.886598</td>\n",
       "      <td>55.041237</td>\n",
       "      <td>9.729335e+05</td>\n",
       "    </tr>\n",
       "    <tr>\n",
       "      <th>1</th>\n",
       "      <td>1.701043</td>\n",
       "      <td>1.701043</td>\n",
       "      <td>0.505214</td>\n",
       "      <td>4.115875</td>\n",
       "      <td>61.212051</td>\n",
       "      <td>1.522966e+05</td>\n",
       "    </tr>\n",
       "    <tr>\n",
       "      <th>2</th>\n",
       "      <td>2.026846</td>\n",
       "      <td>2.026846</td>\n",
       "      <td>0.248322</td>\n",
       "      <td>10.302013</td>\n",
       "      <td>70.939597</td>\n",
       "      <td>5.013704e+05</td>\n",
       "    </tr>\n",
       "    <tr>\n",
       "      <th>3</th>\n",
       "      <td>4.787879</td>\n",
       "      <td>4.787879</td>\n",
       "      <td>0.000000</td>\n",
       "      <td>2.121212</td>\n",
       "      <td>65.181818</td>\n",
       "      <td>1.033802e+06</td>\n",
       "    </tr>\n",
       "    <tr>\n",
       "      <th>4</th>\n",
       "      <td>3.585000</td>\n",
       "      <td>3.585000</td>\n",
       "      <td>0.269000</td>\n",
       "      <td>4.008000</td>\n",
       "      <td>160.267000</td>\n",
       "      <td>1.566768e+05</td>\n",
       "    </tr>\n",
       "  </tbody>\n",
       "</table>\n",
       "</div>"
      ],
      "text/plain": [
       "   avg_comment_numbers  avg_hashtag_numbers  avg_like_numbers  \\\n",
       "0             2.453608             2.453608          0.979381   \n",
       "1             1.701043             1.701043          0.505214   \n",
       "2             2.026846             2.026846          0.248322   \n",
       "3             4.787879             4.787879          0.000000   \n",
       "4             3.585000             3.585000          0.269000   \n",
       "\n",
       "   avg_location_info  avg_comments_disabled     intertime  \n",
       "0          13.886598              55.041237  9.729335e+05  \n",
       "1           4.115875              61.212051  1.522966e+05  \n",
       "2          10.302013              70.939597  5.013704e+05  \n",
       "3           2.121212              65.181818  1.033802e+06  \n",
       "4           4.008000             160.267000  1.566768e+05  "
      ]
     },
     "execution_count": 12,
     "metadata": {},
     "output_type": "execute_result"
    }
   ],
   "source": [
    "engineered_df = engineered_df.reset_index().drop(columns=['index'])\n",
    "\n",
    "engineered_df.head()"
   ]
  },
  {
   "cell_type": "markdown",
   "metadata": {},
   "source": [
    "#### 5.3. Add engineered features to base features"
   ]
  },
  {
   "cell_type": "code",
   "execution_count": 13,
   "metadata": {
    "execution": {
     "iopub.execute_input": "2024-03-10T00:19:16.571364Z",
     "iopub.status.busy": "2024-03-10T00:19:16.570904Z",
     "iopub.status.idle": "2024-03-10T00:19:16.580560Z",
     "shell.execute_reply": "2024-03-10T00:19:16.579234Z",
     "shell.execute_reply.started": "2024-03-10T00:19:16.571324Z"
    },
    "trusted": true
   },
   "outputs": [],
   "source": [
    "base_columns = [\n",
    "    'user_media_count', 'user_follower_count', 'user_following_count', 'user_has_highligh_reels', \n",
    "    'user_has_external_url', 'user_tags_count', 'follower_following_ratio', 'user_biography_length', \n",
    "    'username_length', 'username_digit_count', 'automated_behaviour'\n",
    "]\n",
    "\n",
    "base_df = instagram_df[base_columns]"
   ]
  },
  {
   "cell_type": "code",
   "execution_count": 14,
   "metadata": {
    "execution": {
     "iopub.execute_input": "2024-03-10T00:19:16.583257Z",
     "iopub.status.busy": "2024-03-10T00:19:16.582794Z",
     "iopub.status.idle": "2024-03-10T00:19:16.606786Z",
     "shell.execute_reply": "2024-03-10T00:19:16.605631Z",
     "shell.execute_reply.started": "2024-03-10T00:19:16.583217Z"
    },
    "trusted": true
   },
   "outputs": [
    {
     "data": {
      "text/html": [
       "<div>\n",
       "<style scoped>\n",
       "    .dataframe tbody tr th:only-of-type {\n",
       "        vertical-align: middle;\n",
       "    }\n",
       "\n",
       "    .dataframe tbody tr th {\n",
       "        vertical-align: top;\n",
       "    }\n",
       "\n",
       "    .dataframe thead th {\n",
       "        text-align: right;\n",
       "    }\n",
       "</style>\n",
       "<table border=\"1\" class=\"dataframe\">\n",
       "  <thead>\n",
       "    <tr style=\"text-align: right;\">\n",
       "      <th></th>\n",
       "      <th>user_media_count</th>\n",
       "      <th>user_follower_count</th>\n",
       "      <th>user_following_count</th>\n",
       "      <th>user_has_highligh_reels</th>\n",
       "      <th>user_has_external_url</th>\n",
       "      <th>user_tags_count</th>\n",
       "      <th>follower_following_ratio</th>\n",
       "      <th>user_biography_length</th>\n",
       "      <th>username_length</th>\n",
       "      <th>username_digit_count</th>\n",
       "      <th>automated_behaviour</th>\n",
       "      <th>avg_comment_numbers</th>\n",
       "      <th>avg_hashtag_numbers</th>\n",
       "      <th>avg_like_numbers</th>\n",
       "      <th>avg_location_info</th>\n",
       "      <th>avg_comments_disabled</th>\n",
       "      <th>intertime</th>\n",
       "    </tr>\n",
       "  </thead>\n",
       "  <tbody>\n",
       "    <tr>\n",
       "      <th>0</th>\n",
       "      <td>97</td>\n",
       "      <td>1612</td>\n",
       "      <td>7108</td>\n",
       "      <td>0</td>\n",
       "      <td>1</td>\n",
       "      <td>36</td>\n",
       "      <td>0.226787</td>\n",
       "      <td>133</td>\n",
       "      <td>12</td>\n",
       "      <td>0</td>\n",
       "      <td>1</td>\n",
       "      <td>2.453608</td>\n",
       "      <td>2.453608</td>\n",
       "      <td>0.979381</td>\n",
       "      <td>13.886598</td>\n",
       "      <td>55.041237</td>\n",
       "      <td>9.729335e+05</td>\n",
       "    </tr>\n",
       "    <tr>\n",
       "      <th>1</th>\n",
       "      <td>863</td>\n",
       "      <td>3028</td>\n",
       "      <td>912</td>\n",
       "      <td>1</td>\n",
       "      <td>0</td>\n",
       "      <td>77</td>\n",
       "      <td>3.320175</td>\n",
       "      <td>99</td>\n",
       "      <td>11</td>\n",
       "      <td>0</td>\n",
       "      <td>1</td>\n",
       "      <td>1.701043</td>\n",
       "      <td>1.701043</td>\n",
       "      <td>0.505214</td>\n",
       "      <td>4.115875</td>\n",
       "      <td>61.212051</td>\n",
       "      <td>1.522966e+05</td>\n",
       "    </tr>\n",
       "    <tr>\n",
       "      <th>2</th>\n",
       "      <td>149</td>\n",
       "      <td>5213</td>\n",
       "      <td>1157</td>\n",
       "      <td>1</td>\n",
       "      <td>1</td>\n",
       "      <td>56</td>\n",
       "      <td>4.505618</td>\n",
       "      <td>120</td>\n",
       "      <td>18</td>\n",
       "      <td>0</td>\n",
       "      <td>1</td>\n",
       "      <td>2.026846</td>\n",
       "      <td>2.026846</td>\n",
       "      <td>0.248322</td>\n",
       "      <td>10.302013</td>\n",
       "      <td>70.939597</td>\n",
       "      <td>5.013704e+05</td>\n",
       "    </tr>\n",
       "    <tr>\n",
       "      <th>3</th>\n",
       "      <td>33</td>\n",
       "      <td>12423</td>\n",
       "      <td>1763</td>\n",
       "      <td>0</td>\n",
       "      <td>0</td>\n",
       "      <td>2</td>\n",
       "      <td>7.046512</td>\n",
       "      <td>55</td>\n",
       "      <td>13</td>\n",
       "      <td>0</td>\n",
       "      <td>1</td>\n",
       "      <td>4.787879</td>\n",
       "      <td>4.787879</td>\n",
       "      <td>0.000000</td>\n",
       "      <td>2.121212</td>\n",
       "      <td>65.181818</td>\n",
       "      <td>1.033802e+06</td>\n",
       "    </tr>\n",
       "    <tr>\n",
       "      <th>4</th>\n",
       "      <td>1000</td>\n",
       "      <td>9496</td>\n",
       "      <td>2412</td>\n",
       "      <td>1</td>\n",
       "      <td>0</td>\n",
       "      <td>91</td>\n",
       "      <td>3.936982</td>\n",
       "      <td>33</td>\n",
       "      <td>8</td>\n",
       "      <td>0</td>\n",
       "      <td>1</td>\n",
       "      <td>3.585000</td>\n",
       "      <td>3.585000</td>\n",
       "      <td>0.269000</td>\n",
       "      <td>4.008000</td>\n",
       "      <td>160.267000</td>\n",
       "      <td>1.566768e+05</td>\n",
       "    </tr>\n",
       "  </tbody>\n",
       "</table>\n",
       "</div>"
      ],
      "text/plain": [
       "   user_media_count  user_follower_count  user_following_count  \\\n",
       "0                97                 1612                  7108   \n",
       "1               863                 3028                   912   \n",
       "2               149                 5213                  1157   \n",
       "3                33                12423                  1763   \n",
       "4              1000                 9496                  2412   \n",
       "\n",
       "   user_has_highligh_reels  user_has_external_url  user_tags_count  \\\n",
       "0                        0                      1               36   \n",
       "1                        1                      0               77   \n",
       "2                        1                      1               56   \n",
       "3                        0                      0                2   \n",
       "4                        1                      0               91   \n",
       "\n",
       "   follower_following_ratio  user_biography_length  username_length  \\\n",
       "0                  0.226787                    133               12   \n",
       "1                  3.320175                     99               11   \n",
       "2                  4.505618                    120               18   \n",
       "3                  7.046512                     55               13   \n",
       "4                  3.936982                     33                8   \n",
       "\n",
       "   username_digit_count  automated_behaviour  avg_comment_numbers  \\\n",
       "0                     0                    1             2.453608   \n",
       "1                     0                    1             1.701043   \n",
       "2                     0                    1             2.026846   \n",
       "3                     0                    1             4.787879   \n",
       "4                     0                    1             3.585000   \n",
       "\n",
       "   avg_hashtag_numbers  avg_like_numbers  avg_location_info  \\\n",
       "0             2.453608          0.979381          13.886598   \n",
       "1             1.701043          0.505214           4.115875   \n",
       "2             2.026846          0.248322          10.302013   \n",
       "3             4.787879          0.000000           2.121212   \n",
       "4             3.585000          0.269000           4.008000   \n",
       "\n",
       "   avg_comments_disabled     intertime  \n",
       "0              55.041237  9.729335e+05  \n",
       "1              61.212051  1.522966e+05  \n",
       "2              70.939597  5.013704e+05  \n",
       "3              65.181818  1.033802e+06  \n",
       "4             160.267000  1.566768e+05  "
      ]
     },
     "execution_count": 14,
     "metadata": {},
     "output_type": "execute_result"
    }
   ],
   "source": [
    "instagram_df =  pd.concat([base_df, engineered_df], axis=1)\n",
    "\n",
    "instagram_df.head()"
   ]
  },
  {
   "cell_type": "markdown",
   "metadata": {},
   "source": [
    "### 6. Data Visualization"
   ]
  },
  {
   "cell_type": "code",
   "execution_count": 15,
   "metadata": {
    "execution": {
     "iopub.execute_input": "2024-03-10T00:19:16.608383Z",
     "iopub.status.busy": "2024-03-10T00:19:16.608048Z",
     "iopub.status.idle": "2024-03-10T00:19:17.815604Z",
     "shell.execute_reply": "2024-03-10T00:19:17.814210Z",
     "shell.execute_reply.started": "2024-03-10T00:19:16.608354Z"
    },
    "trusted": true
   },
   "outputs": [],
   "source": [
    "import seaborn as sns\n",
    "import matplotlib.pyplot as plt"
   ]
  },
  {
   "cell_type": "markdown",
   "metadata": {},
   "source": [
    "#### 6.1. Visualize the proportion of data class"
   ]
  },
  {
   "cell_type": "code",
   "execution_count": 16,
   "metadata": {
    "execution": {
     "iopub.execute_input": "2024-03-10T00:19:17.817814Z",
     "iopub.status.busy": "2024-03-10T00:19:17.817360Z",
     "iopub.status.idle": "2024-03-10T00:19:17.830186Z",
     "shell.execute_reply": "2024-03-10T00:19:17.828771Z",
     "shell.execute_reply.started": "2024-03-10T00:19:17.817760Z"
    },
    "trusted": true
   },
   "outputs": [
    {
     "data": {
      "text/plain": [
       "automated_behaviour\n",
       "1    700\n",
       "0    700\n",
       "Name: count, dtype: int64"
      ]
     },
     "execution_count": 16,
     "metadata": {},
     "output_type": "execute_result"
    }
   ],
   "source": [
    "labels_count = instagram_df['automated_behaviour'].value_counts()\n",
    "\n",
    "labels_count"
   ]
  },
  {
   "cell_type": "code",
   "execution_count": 17,
   "metadata": {
    "execution": {
     "iopub.execute_input": "2024-03-10T00:19:17.832107Z",
     "iopub.status.busy": "2024-03-10T00:19:17.831748Z",
     "iopub.status.idle": "2024-03-10T00:19:18.110747Z",
     "shell.execute_reply": "2024-03-10T00:19:18.109642Z",
     "shell.execute_reply.started": "2024-03-10T00:19:17.832078Z"
    },
    "trusted": true
   },
   "outputs": [
    {
     "data": {
      "image/png": "[encoded data removed]",
      "text/plain": [
       "<Figure size 800x800 with 1 Axes>"
      ]
     },
     "metadata": {},
     "output_type": "display_data"
    }
   ],
   "source": [
    "# Plotting the pie chart\n",
    "plt.figure(figsize=(8, 8))\n",
    "sns.set_palette(\"flare\")\n",
    "plt.pie(labels_count, labels=labels_count.index, autopct='%1.1f%%', startangle=140)\n",
    "plt.title('Proportion of Labels')\n",
    "plt.legend(labels=['Non Automated', 'Automated'], title='Labels', loc='upper right')\n",
    "plt.show()"
   ]
  },
  {
   "cell_type": "markdown",
   "metadata": {},
   "source": [
    "### 7. Data Preprocessing"
   ]
  },
  {
   "cell_type": "markdown",
   "metadata": {},
   "source": [
    "#### 7.1. Separate features from target"
   ]
  },
  {
   "cell_type": "code",
   "execution_count": 18,
   "metadata": {
    "execution": {
     "iopub.execute_input": "2024-03-10T00:19:18.113331Z",
     "iopub.status.busy": "2024-03-10T00:19:18.112259Z",
     "iopub.status.idle": "2024-03-10T00:19:18.119880Z",
     "shell.execute_reply": "2024-03-10T00:19:18.118830Z",
     "shell.execute_reply.started": "2024-03-10T00:19:18.113285Z"
    },
    "trusted": true
   },
   "outputs": [],
   "source": [
    "features_df = instagram_df.drop(columns=['automated_behaviour'])\n",
    "\n",
    "target = instagram_df['automated_behaviour']"
   ]
  },
  {
   "cell_type": "markdown",
   "metadata": {},
   "source": [
    "#### 7.2. Numeric columns scaling"
   ]
  },
  {
   "cell_type": "code",
   "execution_count": 19,
   "metadata": {
    "execution": {
     "iopub.execute_input": "2024-03-10T00:19:18.121794Z",
     "iopub.status.busy": "2024-03-10T00:19:18.121372Z",
     "iopub.status.idle": "2024-03-10T00:19:18.227302Z",
     "shell.execute_reply": "2024-03-10T00:19:18.226180Z",
     "shell.execute_reply.started": "2024-03-10T00:19:18.121764Z"
    },
    "trusted": true
   },
   "outputs": [],
   "source": [
    "from sklearn.preprocessing import MinMaxScaler"
   ]
  },
  {
   "cell_type": "code",
   "execution_count": 20,
   "metadata": {
    "execution": {
     "iopub.execute_input": "2024-03-10T00:19:18.229343Z",
     "iopub.status.busy": "2024-03-10T00:19:18.228974Z",
     "iopub.status.idle": "2024-03-10T00:19:18.301435Z",
     "shell.execute_reply": "2024-03-10T00:19:18.300229Z",
     "shell.execute_reply.started": "2024-03-10T00:19:18.229313Z"
    },
    "trusted": true
   },
   "outputs": [
    {
     "data": {
      "text/html": [
       "<div>\n",
       "<style scoped>\n",
       "    .dataframe tbody tr th:only-of-type {\n",
       "        vertical-align: middle;\n",
       "    }\n",
       "\n",
       "    .dataframe tbody tr th {\n",
       "        vertical-align: top;\n",
       "    }\n",
       "\n",
       "    .dataframe thead th {\n",
       "        text-align: right;\n",
       "    }\n",
       "</style>\n",
       "<table border=\"1\" class=\"dataframe\">\n",
       "  <thead>\n",
       "    <tr style=\"text-align: right;\">\n",
       "      <th></th>\n",
       "      <th>user_media_count</th>\n",
       "      <th>user_follower_count</th>\n",
       "      <th>user_following_count</th>\n",
       "      <th>user_has_highligh_reels</th>\n",
       "      <th>user_has_external_url</th>\n",
       "      <th>user_tags_count</th>\n",
       "      <th>follower_following_ratio</th>\n",
       "      <th>user_biography_length</th>\n",
       "      <th>username_length</th>\n",
       "      <th>username_digit_count</th>\n",
       "      <th>avg_comment_numbers</th>\n",
       "      <th>avg_hashtag_numbers</th>\n",
       "      <th>avg_like_numbers</th>\n",
       "      <th>avg_location_info</th>\n",
       "      <th>avg_comments_disabled</th>\n",
       "      <th>intertime</th>\n",
       "    </tr>\n",
       "  </thead>\n",
       "  <tbody>\n",
       "    <tr>\n",
       "      <th>count</th>\n",
       "      <td>1400.000000</td>\n",
       "      <td>1.400000e+03</td>\n",
       "      <td>1400.000000</td>\n",
       "      <td>1400.000000</td>\n",
       "      <td>1400.000000</td>\n",
       "      <td>1400.000000</td>\n",
       "      <td>1400.000000</td>\n",
       "      <td>1400.000000</td>\n",
       "      <td>1400.000000</td>\n",
       "      <td>1400.000000</td>\n",
       "      <td>1400.000000</td>\n",
       "      <td>1400.000000</td>\n",
       "      <td>1400.000000</td>\n",
       "      <td>1400.000000</td>\n",
       "      <td>1400.000000</td>\n",
       "      <td>1.400000e+03</td>\n",
       "    </tr>\n",
       "    <tr>\n",
       "      <th>mean</th>\n",
       "      <td>172.925714</td>\n",
       "      <td>8.498518e+03</td>\n",
       "      <td>1518.572857</td>\n",
       "      <td>0.480000</td>\n",
       "      <td>0.306429</td>\n",
       "      <td>555.050714</td>\n",
       "      <td>32.400666</td>\n",
       "      <td>59.265000</td>\n",
       "      <td>11.980714</td>\n",
       "      <td>0.267857</td>\n",
       "      <td>5.225851</td>\n",
       "      <td>5.225851</td>\n",
       "      <td>0.364830</td>\n",
       "      <td>5.327608</td>\n",
       "      <td>296.547951</td>\n",
       "      <td>2.274509e+06</td>\n",
       "    </tr>\n",
       "    <tr>\n",
       "      <th>std</th>\n",
       "      <td>251.258929</td>\n",
       "      <td>1.674684e+05</td>\n",
       "      <td>1804.625336</td>\n",
       "      <td>0.499778</td>\n",
       "      <td>0.461175</td>\n",
       "      <td>17780.656031</td>\n",
       "      <td>658.421369</td>\n",
       "      <td>53.916826</td>\n",
       "      <td>3.822405</td>\n",
       "      <td>0.810295</td>\n",
       "      <td>17.785649</td>\n",
       "      <td>17.785649</td>\n",
       "      <td>0.314056</td>\n",
       "      <td>7.573074</td>\n",
       "      <td>4619.407749</td>\n",
       "      <td>6.327526e+06</td>\n",
       "    </tr>\n",
       "    <tr>\n",
       "      <th>min</th>\n",
       "      <td>0.000000</td>\n",
       "      <td>2.000000e+00</td>\n",
       "      <td>0.000000</td>\n",
       "      <td>0.000000</td>\n",
       "      <td>0.000000</td>\n",
       "      <td>0.000000</td>\n",
       "      <td>0.048157</td>\n",
       "      <td>0.000000</td>\n",
       "      <td>5.000000</td>\n",
       "      <td>0.000000</td>\n",
       "      <td>0.000000</td>\n",
       "      <td>0.000000</td>\n",
       "      <td>0.000000</td>\n",
       "      <td>0.000000</td>\n",
       "      <td>0.000000</td>\n",
       "      <td>0.000000e+00</td>\n",
       "    </tr>\n",
       "    <tr>\n",
       "      <th>25%</th>\n",
       "      <td>21.000000</td>\n",
       "      <td>3.285000e+02</td>\n",
       "      <td>368.750000</td>\n",
       "      <td>0.000000</td>\n",
       "      <td>0.000000</td>\n",
       "      <td>4.000000</td>\n",
       "      <td>0.780443</td>\n",
       "      <td>6.000000</td>\n",
       "      <td>9.000000</td>\n",
       "      <td>0.000000</td>\n",
       "      <td>1.000000</td>\n",
       "      <td>1.000000</td>\n",
       "      <td>0.055180</td>\n",
       "      <td>0.274877</td>\n",
       "      <td>40.781818</td>\n",
       "      <td>2.164296e+05</td>\n",
       "    </tr>\n",
       "    <tr>\n",
       "      <th>50%</th>\n",
       "      <td>63.000000</td>\n",
       "      <td>6.665000e+02</td>\n",
       "      <td>683.000000</td>\n",
       "      <td>0.000000</td>\n",
       "      <td>0.000000</td>\n",
       "      <td>19.000000</td>\n",
       "      <td>1.005077</td>\n",
       "      <td>43.500000</td>\n",
       "      <td>11.000000</td>\n",
       "      <td>0.000000</td>\n",
       "      <td>2.045465</td>\n",
       "      <td>2.045465</td>\n",
       "      <td>0.319091</td>\n",
       "      <td>1.563855</td>\n",
       "      <td>77.059360</td>\n",
       "      <td>7.707493e+05</td>\n",
       "    </tr>\n",
       "    <tr>\n",
       "      <th>75%</th>\n",
       "      <td>197.500000</td>\n",
       "      <td>3.272750e+03</td>\n",
       "      <td>1906.000000</td>\n",
       "      <td>1.000000</td>\n",
       "      <td>1.000000</td>\n",
       "      <td>57.000000</td>\n",
       "      <td>1.866799</td>\n",
       "      <td>113.000000</td>\n",
       "      <td>14.000000</td>\n",
       "      <td>0.000000</td>\n",
       "      <td>4.283654</td>\n",
       "      <td>4.283654</td>\n",
       "      <td>0.600000</td>\n",
       "      <td>7.387938</td>\n",
       "      <td>168.828747</td>\n",
       "      <td>2.398874e+06</td>\n",
       "    </tr>\n",
       "    <tr>\n",
       "      <th>max</th>\n",
       "      <td>1000.000000</td>\n",
       "      <td>6.255036e+06</td>\n",
       "      <td>7502.000000</td>\n",
       "      <td>1.000000</td>\n",
       "      <td>1.000000</td>\n",
       "      <td>665233.000000</td>\n",
       "      <td>20244.000000</td>\n",
       "      <td>150.000000</td>\n",
       "      <td>30.000000</td>\n",
       "      <td>6.000000</td>\n",
       "      <td>473.959821</td>\n",
       "      <td>473.959821</td>\n",
       "      <td>1.000000</td>\n",
       "      <td>30.000000</td>\n",
       "      <td>172615.747024</td>\n",
       "      <td>1.366961e+08</td>\n",
       "    </tr>\n",
       "  </tbody>\n",
       "</table>\n",
       "</div>"
      ],
      "text/plain": [
       "       user_media_count  user_follower_count  user_following_count  \\\n",
       "count       1400.000000         1.400000e+03           1400.000000   \n",
       "mean         172.925714         8.498518e+03           1518.572857   \n",
       "std          251.258929         1.674684e+05           1804.625336   \n",
       "min            0.000000         2.000000e+00              0.000000   \n",
       "25%           21.000000         3.285000e+02            368.750000   \n",
       "50%           63.000000         6.665000e+02            683.000000   \n",
       "75%          197.500000         3.272750e+03           1906.000000   \n",
       "max         1000.000000         6.255036e+06           7502.000000   \n",
       "\n",
       "       user_has_highligh_reels  user_has_external_url  user_tags_count  \\\n",
       "count              1400.000000            1400.000000      1400.000000   \n",
       "mean                  0.480000               0.306429       555.050714   \n",
       "std                   0.499778               0.461175     17780.656031   \n",
       "min                   0.000000               0.000000         0.000000   \n",
       "25%                   0.000000               0.000000         4.000000   \n",
       "50%                   0.000000               0.000000        19.000000   \n",
       "75%                   1.000000               1.000000        57.000000   \n",
       "max                   1.000000               1.000000    665233.000000   \n",
       "\n",
       "       follower_following_ratio  user_biography_length  username_length  \\\n",
       "count               1400.000000            1400.000000      1400.000000   \n",
       "mean                  32.400666              59.265000        11.980714   \n",
       "std                  658.421369              53.916826         3.822405   \n",
       "min                    0.048157               0.000000         5.000000   \n",
       "25%                    0.780443               6.000000         9.000000   \n",
       "50%                    1.005077              43.500000        11.000000   \n",
       "75%                    1.866799             113.000000        14.000000   \n",
       "max                20244.000000             150.000000        30.000000   \n",
       "\n",
       "       username_digit_count  avg_comment_numbers  avg_hashtag_numbers  \\\n",
       "count           1400.000000          1400.000000          1400.000000   \n",
       "mean               0.267857             5.225851             5.225851   \n",
       "std                0.810295            17.785649            17.785649   \n",
       "min                0.000000             0.000000             0.000000   \n",
       "25%                0.000000             1.000000             1.000000   \n",
       "50%                0.000000             2.045465             2.045465   \n",
       "75%                0.000000             4.283654             4.283654   \n",
       "max                6.000000           473.959821           473.959821   \n",
       "\n",
       "       avg_like_numbers  avg_location_info  avg_comments_disabled  \\\n",
       "count       1400.000000        1400.000000            1400.000000   \n",
       "mean           0.364830           5.327608             296.547951   \n",
       "std            0.314056           7.573074            4619.407749   \n",
       "min            0.000000           0.000000               0.000000   \n",
       "25%            0.055180           0.274877              40.781818   \n",
       "50%            0.319091           1.563855              77.059360   \n",
       "75%            0.600000           7.387938             168.828747   \n",
       "max            1.000000          30.000000          172615.747024   \n",
       "\n",
       "          intertime  \n",
       "count  1.400000e+03  \n",
       "mean   2.274509e+06  \n",
       "std    6.327526e+06  \n",
       "min    0.000000e+00  \n",
       "25%    2.164296e+05  \n",
       "50%    7.707493e+05  \n",
       "75%    2.398874e+06  \n",
       "max    1.366961e+08  "
      ]
     },
     "execution_count": 20,
     "metadata": {},
     "output_type": "execute_result"
    }
   ],
   "source": [
    "# Features before scaling\n",
    "features_df.describe()"
   ]
  },
  {
   "cell_type": "code",
   "execution_count": 21,
   "metadata": {
    "execution": {
     "iopub.execute_input": "2024-03-10T00:19:18.303779Z",
     "iopub.status.busy": "2024-03-10T00:19:18.302791Z",
     "iopub.status.idle": "2024-03-10T00:19:18.309525Z",
     "shell.execute_reply": "2024-03-10T00:19:18.308375Z",
     "shell.execute_reply.started": "2024-03-10T00:19:18.303739Z"
    },
    "trusted": true
   },
   "outputs": [],
   "source": [
    "# Select numeric columns\n",
    "num_cols = features_df.select_dtypes(include=np.number).columns.tolist()"
   ]
  },
  {
   "cell_type": "code",
   "execution_count": 22,
   "metadata": {
    "execution": {
     "iopub.execute_input": "2024-03-10T00:19:18.311223Z",
     "iopub.status.busy": "2024-03-10T00:19:18.310835Z",
     "iopub.status.idle": "2024-03-10T00:19:18.331339Z",
     "shell.execute_reply": "2024-03-10T00:19:18.330013Z",
     "shell.execute_reply.started": "2024-03-10T00:19:18.311189Z"
    },
    "trusted": true
   },
   "outputs": [],
   "source": [
    "scaler = MinMaxScaler()\n",
    "scaled_df = pd.DataFrame()\n",
    "\n",
    "scaled_output = scaler.fit_transform(features_df[num_cols])\n",
    "\n",
    "scaled_df[num_cols] = scaled_output"
   ]
  },
  {
   "cell_type": "code",
   "execution_count": 23,
   "metadata": {
    "execution": {
     "iopub.execute_input": "2024-03-10T00:19:18.333809Z",
     "iopub.status.busy": "2024-03-10T00:19:18.333477Z",
     "iopub.status.idle": "2024-03-10T00:19:18.408882Z",
     "shell.execute_reply": "2024-03-10T00:19:18.407823Z",
     "shell.execute_reply.started": "2024-03-10T00:19:18.333782Z"
    },
    "trusted": true
   },
   "outputs": [
    {
     "data": {
      "text/html": [
       "<div>\n",
       "<style scoped>\n",
       "    .dataframe tbody tr th:only-of-type {\n",
       "        vertical-align: middle;\n",
       "    }\n",
       "\n",
       "    .dataframe tbody tr th {\n",
       "        vertical-align: top;\n",
       "    }\n",
       "\n",
       "    .dataframe thead th {\n",
       "        text-align: right;\n",
       "    }\n",
       "</style>\n",
       "<table border=\"1\" class=\"dataframe\">\n",
       "  <thead>\n",
       "    <tr style=\"text-align: right;\">\n",
       "      <th></th>\n",
       "      <th>user_media_count</th>\n",
       "      <th>user_follower_count</th>\n",
       "      <th>user_following_count</th>\n",
       "      <th>user_has_highligh_reels</th>\n",
       "      <th>user_has_external_url</th>\n",
       "      <th>user_tags_count</th>\n",
       "      <th>follower_following_ratio</th>\n",
       "      <th>user_biography_length</th>\n",
       "      <th>username_length</th>\n",
       "      <th>username_digit_count</th>\n",
       "      <th>avg_comment_numbers</th>\n",
       "      <th>avg_hashtag_numbers</th>\n",
       "      <th>avg_like_numbers</th>\n",
       "      <th>avg_location_info</th>\n",
       "      <th>avg_comments_disabled</th>\n",
       "      <th>intertime</th>\n",
       "    </tr>\n",
       "  </thead>\n",
       "  <tbody>\n",
       "    <tr>\n",
       "      <th>count</th>\n",
       "      <td>1400.000000</td>\n",
       "      <td>1400.000000</td>\n",
       "      <td>1400.000000</td>\n",
       "      <td>1400.000000</td>\n",
       "      <td>1400.000000</td>\n",
       "      <td>1400.000000</td>\n",
       "      <td>1400.000000</td>\n",
       "      <td>1400.000000</td>\n",
       "      <td>1400.000000</td>\n",
       "      <td>1400.000000</td>\n",
       "      <td>1400.000000</td>\n",
       "      <td>1400.000000</td>\n",
       "      <td>1400.000000</td>\n",
       "      <td>1400.000000</td>\n",
       "      <td>1400.000000</td>\n",
       "      <td>1400.000000</td>\n",
       "    </tr>\n",
       "    <tr>\n",
       "      <th>mean</th>\n",
       "      <td>0.172926</td>\n",
       "      <td>0.001358</td>\n",
       "      <td>0.202422</td>\n",
       "      <td>0.480000</td>\n",
       "      <td>0.306429</td>\n",
       "      <td>0.000834</td>\n",
       "      <td>0.001598</td>\n",
       "      <td>0.395100</td>\n",
       "      <td>0.279229</td>\n",
       "      <td>0.044643</td>\n",
       "      <td>0.011026</td>\n",
       "      <td>0.011026</td>\n",
       "      <td>0.364830</td>\n",
       "      <td>0.177587</td>\n",
       "      <td>0.001718</td>\n",
       "      <td>0.016639</td>\n",
       "    </tr>\n",
       "    <tr>\n",
       "      <th>std</th>\n",
       "      <td>0.251259</td>\n",
       "      <td>0.026773</td>\n",
       "      <td>0.240553</td>\n",
       "      <td>0.499778</td>\n",
       "      <td>0.461175</td>\n",
       "      <td>0.026728</td>\n",
       "      <td>0.032524</td>\n",
       "      <td>0.359446</td>\n",
       "      <td>0.152896</td>\n",
       "      <td>0.135049</td>\n",
       "      <td>0.037526</td>\n",
       "      <td>0.037526</td>\n",
       "      <td>0.314056</td>\n",
       "      <td>0.252436</td>\n",
       "      <td>0.026761</td>\n",
       "      <td>0.046289</td>\n",
       "    </tr>\n",
       "    <tr>\n",
       "      <th>min</th>\n",
       "      <td>0.000000</td>\n",
       "      <td>0.000000</td>\n",
       "      <td>0.000000</td>\n",
       "      <td>0.000000</td>\n",
       "      <td>0.000000</td>\n",
       "      <td>0.000000</td>\n",
       "      <td>0.000000</td>\n",
       "      <td>0.000000</td>\n",
       "      <td>0.000000</td>\n",
       "      <td>0.000000</td>\n",
       "      <td>0.000000</td>\n",
       "      <td>0.000000</td>\n",
       "      <td>0.000000</td>\n",
       "      <td>0.000000</td>\n",
       "      <td>0.000000</td>\n",
       "      <td>0.000000</td>\n",
       "    </tr>\n",
       "    <tr>\n",
       "      <th>25%</th>\n",
       "      <td>0.021000</td>\n",
       "      <td>0.000052</td>\n",
       "      <td>0.049154</td>\n",
       "      <td>0.000000</td>\n",
       "      <td>0.000000</td>\n",
       "      <td>0.000006</td>\n",
       "      <td>0.000036</td>\n",
       "      <td>0.040000</td>\n",
       "      <td>0.160000</td>\n",
       "      <td>0.000000</td>\n",
       "      <td>0.002110</td>\n",
       "      <td>0.002110</td>\n",
       "      <td>0.055180</td>\n",
       "      <td>0.009163</td>\n",
       "      <td>0.000236</td>\n",
       "      <td>0.001583</td>\n",
       "    </tr>\n",
       "    <tr>\n",
       "      <th>50%</th>\n",
       "      <td>0.063000</td>\n",
       "      <td>0.000106</td>\n",
       "      <td>0.091042</td>\n",
       "      <td>0.000000</td>\n",
       "      <td>0.000000</td>\n",
       "      <td>0.000029</td>\n",
       "      <td>0.000047</td>\n",
       "      <td>0.290000</td>\n",
       "      <td>0.240000</td>\n",
       "      <td>0.000000</td>\n",
       "      <td>0.004316</td>\n",
       "      <td>0.004316</td>\n",
       "      <td>0.319091</td>\n",
       "      <td>0.052128</td>\n",
       "      <td>0.000446</td>\n",
       "      <td>0.005638</td>\n",
       "    </tr>\n",
       "    <tr>\n",
       "      <th>75%</th>\n",
       "      <td>0.197500</td>\n",
       "      <td>0.000523</td>\n",
       "      <td>0.254066</td>\n",
       "      <td>1.000000</td>\n",
       "      <td>1.000000</td>\n",
       "      <td>0.000086</td>\n",
       "      <td>0.000090</td>\n",
       "      <td>0.753333</td>\n",
       "      <td>0.360000</td>\n",
       "      <td>0.000000</td>\n",
       "      <td>0.009038</td>\n",
       "      <td>0.009038</td>\n",
       "      <td>0.600000</td>\n",
       "      <td>0.246265</td>\n",
       "      <td>0.000978</td>\n",
       "      <td>0.017549</td>\n",
       "    </tr>\n",
       "    <tr>\n",
       "      <th>max</th>\n",
       "      <td>1.000000</td>\n",
       "      <td>1.000000</td>\n",
       "      <td>1.000000</td>\n",
       "      <td>1.000000</td>\n",
       "      <td>1.000000</td>\n",
       "      <td>1.000000</td>\n",
       "      <td>1.000000</td>\n",
       "      <td>1.000000</td>\n",
       "      <td>1.000000</td>\n",
       "      <td>1.000000</td>\n",
       "      <td>1.000000</td>\n",
       "      <td>1.000000</td>\n",
       "      <td>1.000000</td>\n",
       "      <td>1.000000</td>\n",
       "      <td>1.000000</td>\n",
       "      <td>1.000000</td>\n",
       "    </tr>\n",
       "  </tbody>\n",
       "</table>\n",
       "</div>"
      ],
      "text/plain": [
       "       user_media_count  user_follower_count  user_following_count  \\\n",
       "count       1400.000000          1400.000000           1400.000000   \n",
       "mean           0.172926             0.001358              0.202422   \n",
       "std            0.251259             0.026773              0.240553   \n",
       "min            0.000000             0.000000              0.000000   \n",
       "25%            0.021000             0.000052              0.049154   \n",
       "50%            0.063000             0.000106              0.091042   \n",
       "75%            0.197500             0.000523              0.254066   \n",
       "max            1.000000             1.000000              1.000000   \n",
       "\n",
       "       user_has_highligh_reels  user_has_external_url  user_tags_count  \\\n",
       "count              1400.000000            1400.000000      1400.000000   \n",
       "mean                  0.480000               0.306429         0.000834   \n",
       "std                   0.499778               0.461175         0.026728   \n",
       "min                   0.000000               0.000000         0.000000   \n",
       "25%                   0.000000               0.000000         0.000006   \n",
       "50%                   0.000000               0.000000         0.000029   \n",
       "75%                   1.000000               1.000000         0.000086   \n",
       "max                   1.000000               1.000000         1.000000   \n",
       "\n",
       "       follower_following_ratio  user_biography_length  username_length  \\\n",
       "count               1400.000000            1400.000000      1400.000000   \n",
       "mean                   0.001598               0.395100         0.279229   \n",
       "std                    0.032524               0.359446         0.152896   \n",
       "min                    0.000000               0.000000         0.000000   \n",
       "25%                    0.000036               0.040000         0.160000   \n",
       "50%                    0.000047               0.290000         0.240000   \n",
       "75%                    0.000090               0.753333         0.360000   \n",
       "max                    1.000000               1.000000         1.000000   \n",
       "\n",
       "       username_digit_count  avg_comment_numbers  avg_hashtag_numbers  \\\n",
       "count           1400.000000          1400.000000          1400.000000   \n",
       "mean               0.044643             0.011026             0.011026   \n",
       "std                0.135049             0.037526             0.037526   \n",
       "min                0.000000             0.000000             0.000000   \n",
       "25%                0.000000             0.002110             0.002110   \n",
       "50%                0.000000             0.004316             0.004316   \n",
       "75%                0.000000             0.009038             0.009038   \n",
       "max                1.000000             1.000000             1.000000   \n",
       "\n",
       "       avg_like_numbers  avg_location_info  avg_comments_disabled    intertime  \n",
       "count       1400.000000        1400.000000            1400.000000  1400.000000  \n",
       "mean           0.364830           0.177587               0.001718     0.016639  \n",
       "std            0.314056           0.252436               0.026761     0.046289  \n",
       "min            0.000000           0.000000               0.000000     0.000000  \n",
       "25%            0.055180           0.009163               0.000236     0.001583  \n",
       "50%            0.319091           0.052128               0.000446     0.005638  \n",
       "75%            0.600000           0.246265               0.000978     0.017549  \n",
       "max            1.000000           1.000000               1.000000     1.000000  "
      ]
     },
     "execution_count": 23,
     "metadata": {},
     "output_type": "execute_result"
    }
   ],
   "source": [
    "# Features after scaling\n",
    "scaled_df.describe()"
   ]
  },
  {
   "cell_type": "markdown",
   "metadata": {},
   "source": [
    "#### 7.3. Split Data into Training and Test Set"
   ]
  },
  {
   "cell_type": "code",
   "execution_count": 24,
   "metadata": {
    "execution": {
     "iopub.execute_input": "2024-03-10T00:19:18.410436Z",
     "iopub.status.busy": "2024-03-10T00:19:18.410070Z",
     "iopub.status.idle": "2024-03-10T00:19:18.535009Z",
     "shell.execute_reply": "2024-03-10T00:19:18.533928Z",
     "shell.execute_reply.started": "2024-03-10T00:19:18.410407Z"
    },
    "trusted": true
   },
   "outputs": [],
   "source": [
    "from sklearn.model_selection import train_test_split"
   ]
  },
  {
   "cell_type": "code",
   "execution_count": 25,
   "metadata": {
    "execution": {
     "iopub.execute_input": "2024-03-10T00:19:18.537205Z",
     "iopub.status.busy": "2024-03-10T00:19:18.536445Z",
     "iopub.status.idle": "2024-03-10T00:19:18.544620Z",
     "shell.execute_reply": "2024-03-10T00:19:18.543231Z",
     "shell.execute_reply.started": "2024-03-10T00:19:18.537135Z"
    },
    "trusted": true
   },
   "outputs": [],
   "source": [
    "X = scaled_df.copy()\n",
    "y = instagram_df['automated_behaviour']"
   ]
  },
  {
   "cell_type": "code",
   "execution_count": 26,
   "metadata": {
    "execution": {
     "iopub.execute_input": "2024-03-10T00:19:18.546852Z",
     "iopub.status.busy": "2024-03-10T00:19:18.546367Z",
     "iopub.status.idle": "2024-03-10T00:19:18.559004Z",
     "shell.execute_reply": "2024-03-10T00:19:18.557973Z",
     "shell.execute_reply.started": "2024-03-10T00:19:18.546815Z"
    },
    "trusted": true
   },
   "outputs": [],
   "source": [
    "X_train, X_test, y_train, y_test = train_test_split(X, y, test_size=0.2, shuffle=True, random_state=42)"
   ]
  },
  {
   "cell_type": "code",
   "execution_count": 27,
   "metadata": {
    "execution": {
     "iopub.execute_input": "2024-03-10T00:19:18.563796Z",
     "iopub.status.busy": "2024-03-10T00:19:18.561221Z",
     "iopub.status.idle": "2024-03-10T00:19:18.569713Z",
     "shell.execute_reply": "2024-03-10T00:19:18.568711Z",
     "shell.execute_reply.started": "2024-03-10T00:19:18.563762Z"
    },
    "trusted": true
   },
   "outputs": [
    {
     "name": "stdout",
     "output_type": "stream",
     "text": [
      "The shape of the training data is (1120, 16)\n",
      "The shape of the test data is (280, 16)\n"
     ]
    }
   ],
   "source": [
    "print(f\"The shape of the training data is {X_train.shape}\")\n",
    "print(f\"The shape of the test data is {X_test.shape}\")"
   ]
  },
  {
   "cell_type": "markdown",
   "metadata": {},
   "source": [
    "### 8. Model Building"
   ]
  },
  {
   "cell_type": "code",
   "execution_count": 28,
   "metadata": {
    "execution": {
     "iopub.execute_input": "2024-03-10T00:19:18.577664Z",
     "iopub.status.busy": "2024-03-10T00:19:18.577030Z",
     "iopub.status.idle": "2024-03-10T00:19:18.855651Z",
     "shell.execute_reply": "2024-03-10T00:19:18.854339Z",
     "shell.execute_reply.started": "2024-03-10T00:19:18.577633Z"
    },
    "trusted": true
   },
   "outputs": [],
   "source": [
    "from sklearn.ensemble import RandomForestClassifier"
   ]
  },
  {
   "cell_type": "markdown",
   "metadata": {},
   "source": [
    "#### 8.1 Build Random Forest Classifier model"
   ]
  },
  {
   "cell_type": "code",
   "execution_count": 29,
   "metadata": {
    "execution": {
     "iopub.execute_input": "2024-03-10T00:19:18.857496Z",
     "iopub.status.busy": "2024-03-10T00:19:18.857073Z",
     "iopub.status.idle": "2024-03-10T00:19:18.862774Z",
     "shell.execute_reply": "2024-03-10T00:19:18.861529Z",
     "shell.execute_reply.started": "2024-03-10T00:19:18.857455Z"
    },
    "trusted": true
   },
   "outputs": [],
   "source": [
    "rf_classifier = RandomForestClassifier(random_state=42)"
   ]
  },
  {
   "cell_type": "code",
   "execution_count": 30,
   "metadata": {
    "execution": {
     "iopub.execute_input": "2024-03-10T00:19:18.865089Z",
     "iopub.status.busy": "2024-03-10T00:19:18.864645Z",
     "iopub.status.idle": "2024-03-10T00:19:19.293608Z",
     "shell.execute_reply": "2024-03-10T00:19:19.292601Z",
     "shell.execute_reply.started": "2024-03-10T00:19:18.865057Z"
    },
    "trusted": true
   },
   "outputs": [],
   "source": [
    "rf_classifier.fit(X_train, y_train)\n",
    "\n",
    "y_pred = rf_classifier.predict(X_test)"
   ]
  },
  {
   "cell_type": "markdown",
   "metadata": {},
   "source": [
    "#### 8.2 Evaluate Classifier"
   ]
  },
  {
   "cell_type": "code",
   "execution_count": 31,
   "metadata": {
    "execution": {
     "iopub.execute_input": "2024-03-10T00:19:19.295477Z",
     "iopub.status.busy": "2024-03-10T00:19:19.295124Z",
     "iopub.status.idle": "2024-03-10T00:19:19.300823Z",
     "shell.execute_reply": "2024-03-10T00:19:19.299691Z",
     "shell.execute_reply.started": "2024-03-10T00:19:19.295449Z"
    },
    "trusted": true
   },
   "outputs": [],
   "source": [
    "from sklearn.metrics import classification_report\n",
    "from sklearn.metrics import accuracy_score, precision_score, recall_score, f1_score, confusion_matrix, roc_auc_score, roc_curve"
   ]
  },
  {
   "cell_type": "code",
   "execution_count": 32,
   "metadata": {
    "execution": {
     "iopub.execute_input": "2024-03-10T00:19:19.303052Z",
     "iopub.status.busy": "2024-03-10T00:19:19.302304Z",
     "iopub.status.idle": "2024-03-10T00:19:19.319758Z",
     "shell.execute_reply": "2024-03-10T00:19:19.318767Z",
     "shell.execute_reply.started": "2024-03-10T00:19:19.303012Z"
    },
    "trusted": true
   },
   "outputs": [],
   "source": [
    "accuracy = accuracy_score(y_test, y_pred)\n",
    "precision = precision_score(y_test, y_pred)\n",
    "recall = recall_score(y_test, y_pred)\n",
    "f1 = f1_score(y_test, y_pred)"
   ]
  },
  {
   "cell_type": "code",
   "execution_count": 33,
   "metadata": {
    "execution": {
     "iopub.execute_input": "2024-03-10T00:19:19.321283Z",
     "iopub.status.busy": "2024-03-10T00:19:19.320976Z",
     "iopub.status.idle": "2024-03-10T00:19:19.335310Z",
     "shell.execute_reply": "2024-03-10T00:19:19.334235Z",
     "shell.execute_reply.started": "2024-03-10T00:19:19.321257Z"
    },
    "trusted": true
   },
   "outputs": [
    {
     "name": "stdout",
     "output_type": "stream",
     "text": [
      "              precision    recall  f1-score   support\n",
      "\n",
      "           0       0.93      0.96      0.94       140\n",
      "           1       0.96      0.93      0.94       140\n",
      "\n",
      "    accuracy                           0.94       280\n",
      "   macro avg       0.94      0.94      0.94       280\n",
      "weighted avg       0.94      0.94      0.94       280\n",
      "\n"
     ]
    }
   ],
   "source": [
    "report = classification_report(y_test, y_pred)\n",
    "print(report)"
   ]
  },
  {
   "cell_type": "code",
   "execution_count": 34,
   "metadata": {
    "execution": {
     "iopub.execute_input": "2024-03-10T00:19:19.337690Z",
     "iopub.status.busy": "2024-03-10T00:19:19.336764Z",
     "iopub.status.idle": "2024-03-10T00:19:19.342982Z",
     "shell.execute_reply": "2024-03-10T00:19:19.342208Z",
     "shell.execute_reply.started": "2024-03-10T00:19:19.337659Z"
    },
    "trusted": true
   },
   "outputs": [
    {
     "name": "stdout",
     "output_type": "stream",
     "text": [
      "Accuracy: 0.9429\n",
      "Precision: 0.9559\n",
      "Recall: 0.9286\n",
      "F1-Score: 0.9420\n"
     ]
    }
   ],
   "source": [
    "print(f\"Accuracy: {accuracy:.4f}\")\n",
    "print(f\"Precision: {precision:.4f}\")\n",
    "print(f\"Recall: {recall:.4f}\")\n",
    "print(f\"F1-Score: {f1:.4f}\")"
   ]
  },
  {
   "cell_type": "markdown",
   "metadata": {},
   "source": [
    "#### 8.3 Confusion Matrix Plot"
   ]
  },
  {
   "cell_type": "code",
   "execution_count": 35,
   "metadata": {
    "execution": {
     "iopub.execute_input": "2024-03-10T00:19:19.345080Z",
     "iopub.status.busy": "2024-03-10T00:19:19.344211Z",
     "iopub.status.idle": "2024-03-10T00:19:19.355660Z",
     "shell.execute_reply": "2024-03-10T00:19:19.354519Z",
     "shell.execute_reply.started": "2024-03-10T00:19:19.345049Z"
    },
    "trusted": true
   },
   "outputs": [],
   "source": [
    "cm = confusion_matrix(y_test, y_pred)"
   ]
  },
  {
   "cell_type": "code",
   "execution_count": 36,
   "metadata": {
    "execution": {
     "iopub.execute_input": "2024-03-10T00:19:19.357729Z",
     "iopub.status.busy": "2024-03-10T00:19:19.357296Z",
     "iopub.status.idle": "2024-03-10T00:19:19.555911Z",
     "shell.execute_reply": "2024-03-10T00:19:19.554766Z",
     "shell.execute_reply.started": "2024-03-10T00:19:19.357691Z"
    },
    "trusted": true
   },
   "outputs": [
    {
     "data": {
      "image/png": "[encoded data removed]",
      "text/plain": [
       "<Figure size 640x480 with 1 Axes>"
      ]
     },
     "metadata": {},
     "output_type": "display_data"
    }
   ],
   "source": [
    "sns.heatmap(cm, annot=True, fmt=\"d\", cmap=\"Blues\", cbar=False)\n",
    "plt.xlabel(\"Predicted\")\n",
    "plt.ylabel(\"Actual\")\n",
    "plt.title(\"Confusion Matrix\")\n",
    "plt.show()"
   ]
  },
  {
   "cell_type": "markdown",
   "metadata": {},
   "source": [
    "#### 8.4. ROC-AUC Plot"
   ]
  },
  {
   "cell_type": "code",
   "execution_count": 37,
   "metadata": {
    "execution": {
     "iopub.execute_input": "2024-03-10T00:19:19.558486Z",
     "iopub.status.busy": "2024-03-10T00:19:19.557776Z",
     "iopub.status.idle": "2024-03-10T00:19:19.584418Z",
     "shell.execute_reply": "2024-03-10T00:19:19.583212Z",
     "shell.execute_reply.started": "2024-03-10T00:19:19.558447Z"
    },
    "trusted": true
   },
   "outputs": [],
   "source": [
    "y_prob = rf_classifier.predict_proba(X_test)[:, 1]\n",
    "roc_auc = roc_auc_score(y_test, y_prob)\n",
    "fpr, tpr, _ = roc_curve(y_test, y_prob)"
   ]
  },
  {
   "cell_type": "code",
   "execution_count": 38,
   "metadata": {
    "execution": {
     "iopub.execute_input": "2024-03-10T00:19:19.586250Z",
     "iopub.status.busy": "2024-03-10T00:19:19.585870Z",
     "iopub.status.idle": "2024-03-10T00:19:19.918705Z",
     "shell.execute_reply": "2024-03-10T00:19:19.917257Z",
     "shell.execute_reply.started": "2024-03-10T00:19:19.586220Z"
    },
    "trusted": true
   },
   "outputs": [
    {
     "data": {
      "image/png": "[encoded data removed]",
      "text/plain": [
       "<Figure size 800x600 with 1 Axes>"
      ]
     },
     "metadata": {},
     "output_type": "display_data"
    }
   ],
   "source": [
    "plt.figure(figsize=(8, 6))\n",
    "plt.plot(fpr, tpr, color='darkorange', lw=2, label=f'ROC-AUC Curve (AUC = {roc_auc:.2f})')\n",
    "plt.plot([0, 1], [0, 1], color='navy', lw=2, linestyle='--')\n",
    "plt.xlabel('False Positive Rate')\n",
    "plt.ylabel('True Positive Rate')\n",
    "plt.title('Receiver Operating Characteristic (ROC) Curve')\n",
    "plt.legend()\n",
    "plt.show()"
   ]
  },
  {
   "cell_type": "markdown",
   "metadata": {},
   "source": [
    "#### 8.5. Model Interpretation: Feature Importance"
   ]
  },
  {
   "cell_type": "code",
   "execution_count": 39,
   "metadata": {
    "execution": {
     "iopub.execute_input": "2024-03-10T00:19:19.920578Z",
     "iopub.status.busy": "2024-03-10T00:19:19.920243Z",
     "iopub.status.idle": "2024-03-10T00:19:19.933413Z",
     "shell.execute_reply": "2024-03-10T00:19:19.932234Z",
     "shell.execute_reply.started": "2024-03-10T00:19:19.920548Z"
    },
    "trusted": true
   },
   "outputs": [],
   "source": [
    "feature_importance = rf_classifier.feature_importances_\n",
    "feature_names = X_train.columns"
   ]
  },
  {
   "cell_type": "code",
   "execution_count": 40,
   "metadata": {
    "execution": {
     "iopub.execute_input": "2024-03-10T00:19:19.937423Z",
     "iopub.status.busy": "2024-03-10T00:19:19.936918Z",
     "iopub.status.idle": "2024-03-10T00:19:19.944476Z",
     "shell.execute_reply": "2024-03-10T00:19:19.943255Z",
     "shell.execute_reply.started": "2024-03-10T00:19:19.937382Z"
    },
    "trusted": true
   },
   "outputs": [],
   "source": [
    "# Get indices of top 10 features\n",
    "top_indices = feature_importance.argsort()[-10:][::-1]\n",
    "\n",
    "# Extract top 10 feature names and importance values\n",
    "top_feature_names = feature_names[top_indices]\n",
    "top_feature_importance = feature_importance[top_indices]"
   ]
  },
  {
   "cell_type": "code",
   "execution_count": 41,
   "metadata": {
    "execution": {
     "iopub.execute_input": "2024-03-10T00:19:19.947435Z",
     "iopub.status.busy": "2024-03-10T00:19:19.946872Z",
     "iopub.status.idle": "2024-03-10T00:19:20.313348Z",
     "shell.execute_reply": "2024-03-10T00:19:20.312204Z",
     "shell.execute_reply.started": "2024-03-10T00:19:19.947388Z"
    },
    "trusted": true
   },
   "outputs": [
    {
     "data": {
      "image/png": "[encoded data removed]",
      "text/plain": [
       "<Figure size 1000x600 with 1 Axes>"
      ]
     },
     "metadata": {},
     "output_type": "display_data"
    }
   ],
   "source": [
    "plt.figure(figsize=(10, 6))\n",
    "sns.barplot(x=top_feature_importance, y=top_feature_names, orient='h', palette='viridis')\n",
    "plt.xlabel('Top 10 Feature Importance')\n",
    "plt.ylabel('Features')\n",
    "plt.title('Random Forest Top 10 Feature Importance')\n",
    "plt.show()"
   ]
  }
 ],
 "metadata": {
  "kaggle": {
   "accelerator": "none",
   "dataSources": [
    {
     "datasetId": 4516047,
     "sourceId": 7729013,
     "sourceType": "datasetVersion"
    }
   ],
   "dockerImageVersionId": 30664,
   "isGpuEnabled": false,
   "isInternetEnabled": true,
   "language": "python",
   "sourceType": "notebook"
  },
  "kernelspec": {
   "display_name": "Python 3",
   "language": "python",
   "name": "python3"
  },
  "language_info": {
   "codemirror_mode": {
    "name": "ipython",
    "version": 3
   },
   "file_extension": ".py",
   "mimetype": "text/x-python",
   "name": "python",
   "nbconvert_exporter": "python",
   "pygments_lexer": "ipython3",
   "version": "3.10.13"
  }
 },
 "nbformat": 4,
 "nbformat_minor": 4
}
